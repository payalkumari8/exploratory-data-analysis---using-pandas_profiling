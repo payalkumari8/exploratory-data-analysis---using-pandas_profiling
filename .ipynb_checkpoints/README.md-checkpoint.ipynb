{
 "cells": [
  {
   "cell_type": "markdown",
   "id": "0ac86188",
   "metadata": {},
   "source": [
    "# Introduction to the Project\n",
    "\n",
    "This project involves the uses of Pandas profiling library to generate  the EDA report of the heart attack downloaded from kaggle.\n",
    "Pandas-Profiling library interpretes the Dataframe and calculates following automatically:\n",
    "\n",
    "Type inference: detect the types of columns in a dataframe.\n",
    "Essentials: type, unique values, missing values\n",
    "Quantile statistics like minimum value, Q1, median, Q3, maximum, range, interquartile range\n",
    "Descriptive statistics like mean, mode, standard deviation, sum, median absolute deviation, coefficient of variation, kurtosis, skewness\n",
    "\n",
    "Most frequent values\n",
    "Histogram\n",
    "Correlations highlighting of highly correlated variables, Spearman, Pearson and Kendall matrices\n",
    "Missing values matrix, count, heatmap and dendrogram of missing values\n",
    "Text analysis learn about categories (Uppercase, Space), scripts (Latin, Cyrillic) and blocks (ASCII) of text data.\n",
    "\n",
    "Here is the link to learn more about Pandas-Profiling . \n",
    "https://pandas-profiling.github.io/pandas-profiling/docs/master/rtd/"
   ]
  }
 ],
 "metadata": {
  "kernelspec": {
   "display_name": "Python 3",
   "language": "python",
   "name": "python3"
  },
  "language_info": {
   "codemirror_mode": {
    "name": "ipython",
    "version": 3
   },
   "file_extension": ".py",
   "mimetype": "text/x-python",
   "name": "python",
   "nbconvert_exporter": "python",
   "pygments_lexer": "ipython3",
   "version": "3.8.8"
  }
 },
 "nbformat": 4,
 "nbformat_minor": 5
}
